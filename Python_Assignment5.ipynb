{
 "cells": [
  {
   "cell_type": "markdown",
   "metadata": {},
   "source": [
    "# Q1\n",
    "\n",
    "\n",
    "def factorial(Number):\n",
    "    \n",
    "    if Number == 1:\n",
    "        return Number\n",
    "    else:\n",
    "        return num * factorial(Number - 1)\n",
    "\n",
    "\n",
    "\n",
    "Number = int(input(\"Enter a Number: \"))\n",
    "\n",
    "if Number < 0:\n",
    "    print(\"Factorial cannot be found for negative numbers\")\n",
    "elif Number == 0:\n",
    "    print(\"Factorial of 0 is 1\")\n",
    "else:\n",
    "    print(\"Factorial of\", Number, \"is: \", factorial(num))"
   ]
  },
  {
   "cell_type": "code",
   "execution_count": 3,
   "metadata": {},
   "outputs": [
    {
     "name": "stdout",
     "output_type": "stream",
     "text": [
      "Original String :  Cricket is A Game oF Gentelments\n",
      "No. of Upper case characters :  5\n",
      "No. of Lower case Characters :  22\n"
     ]
    }
   ],
   "source": [
    "#Q2\n",
    "def string_test(s):\n",
    "    d={\"UPPER_CASE\":0, \"LOWER_CASE\":0}\n",
    "    for c in s:\n",
    "        if c.isupper():\n",
    "           d[\"UPPER_CASE\"]+=1\n",
    "        elif c.islower():\n",
    "           d[\"LOWER_CASE\"]+=1\n",
    "        else:\n",
    "           pass\n",
    "    print (\"Original String : \", s)\n",
    "    print (\"No. of Upper case characters : \", d[\"UPPER_CASE\"])\n",
    "    print (\"No. of Lower case Characters : \", d[\"LOWER_CASE\"])\n",
    "\n",
    "string_test('Cricket is A Game oF Gentelments')"
   ]
  },
  {
   "cell_type": "code",
   "execution_count": 5,
   "metadata": {},
   "outputs": [
    {
     "name": "stdout",
     "output_type": "stream",
     "text": [
      "[2, 4, 6, 8]\n"
     ]
    }
   ],
   "source": [
    "#Q3\n",
    "def is_even_num(l):\n",
    "    enum = []\n",
    "    for n in l:\n",
    "        if n % 2 == 0:\n",
    "            enum.append(n)\n",
    "    return enum\n",
    "print(is_even_num([1, 2, 3, 4, 5, 6, 7, 8, 9]))\n"
   ]
  },
  {
   "cell_type": "code",
   "execution_count": 19,
   "metadata": {},
   "outputs": [
    {
     "name": "stdout",
     "output_type": "stream",
     "text": [
      "Yes\n"
     ]
    }
   ],
   "source": [
    "#Q4  function to check string is \n",
    "# palindrome or not \n",
    "def isPalindrome(s): \n",
    " \n",
    "\trev = ''.join(reversed(s)) \n",
    "\n",
    "\n",
    "\tif (s == rev): \n",
    "\t\treturn True\n",
    "\treturn False\n",
    "\n",
    "# main function \n",
    "s = \"malayalam\"\n",
    "ans = isPalindrome(s) \n",
    "\n",
    "if (ans): \n",
    "\tprint(\"Yes\") \n",
    "else: \n",
    "\tprint(\"No\") \n"
   ]
  },
  {
   "cell_type": "code",
   "execution_count": 24,
   "metadata": {},
   "outputs": [
    {
     "name": "stdout",
     "output_type": "stream",
     "text": [
      "False\n"
     ]
    }
   ],
   "source": [
    "#Q5\n",
    "def test_prime(n):\n",
    "    if (n==1):\n",
    "        return False\n",
    "    elif (n==2):\n",
    "        return True;\n",
    "    else:\n",
    "        for x in range(2,n):\n",
    "            if(n % x==0):\n",
    "                return False\n",
    "        return True             \n",
    "print(test_prime(9))"
   ]
  },
  {
   "cell_type": "code",
   "execution_count": 25,
   "metadata": {},
   "outputs": [
    {
     "name": "stdout",
     "output_type": "stream",
     "text": [
      "shayan is 35 years old\n",
      "asad is 20 years old\n",
      "fahad is 40 years old\n"
     ]
    }
   ],
   "source": [
    "def demo(customer_name, age):\n",
    "   print(customer_name + \" is \" + age + \" years old\")\n",
    "\n",
    "# 2 keyword arguments (In order)\n",
    "demo(customer_name = \"shayan\", age = \"35\")\n",
    "\n",
    "# 2 keyword arguments (Not in order)\n",
    "demo(age = \"20\", customer_name = \"asad\")\n",
    "\n",
    "# 1 positional and 1 keyword argument\n",
    "demo(\"fahad\", age = \"40\")"
   ]
  },
  {
   "cell_type": "code",
   "execution_count": null,
   "metadata": {},
   "outputs": [],
   "source": []
  }
 ],
 "metadata": {
  "kernelspec": {
   "display_name": "Python 3",
   "language": "python",
   "name": "python3"
  },
  "language_info": {
   "codemirror_mode": {
    "name": "ipython",
    "version": 3
   },
   "file_extension": ".py",
   "mimetype": "text/x-python",
   "name": "python",
   "nbconvert_exporter": "python",
   "pygments_lexer": "ipython3",
   "version": "3.6.4"
  }
 },
 "nbformat": 4,
 "nbformat_minor": 2
}
